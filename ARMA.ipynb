{
 "cells": [
  {
   "cell_type": "markdown",
   "metadata": {},
   "source": [
    "#### Strategy based on ARMA model"
   ]
  },
  {
   "cell_type": "markdown",
   "metadata": {},
   "source": [
    "Idea："
   ]
  },
  {
   "cell_type": "markdown",
   "metadata": {},
   "source": [
    "From the baseline approach, we can easily see that it may not be a good idea to assume the spread series has a steady mean. Thus it is more appropriate to consider a model allowing shifting mean when fitting the spread. And ARMA model is one of the easiest and popular ones to try."
   ]
  },
  {
   "cell_type": "markdown",
   "metadata": {},
   "source": [
    "(1) Fit the spread series with ARMA model."
   ]
  },
  {
   "cell_type": "markdown",
   "metadata": {},
   "source": [
    "(2) Design the trading rule based on the mean-reverting behaviors of ARMA process. "
   ]
  },
  {
   "cell_type": "markdown",
   "metadata": {},
   "source": [
    "#### 1. Fitting Spread with ARMA"
   ]
  },
  {
   "cell_type": "code",
   "execution_count": 1,
   "metadata": {},
   "outputs": [],
   "source": [
    "import pandas as pd\n",
    "import numpy as np\n",
    "import matplotlib.pyplot as plt\n",
    "import warnings\n",
    "warnings.filterwarnings('ignore')"
   ]
  },
  {
   "cell_type": "code",
   "execution_count": 25,
   "metadata": {},
   "outputs": [
    {
     "data": {
      "text/html": [
       "<div>\n",
       "<style scoped>\n",
       "    .dataframe tbody tr th:only-of-type {\n",
       "        vertical-align: middle;\n",
       "    }\n",
       "\n",
       "    .dataframe tbody tr th {\n",
       "        vertical-align: top;\n",
       "    }\n",
       "\n",
       "    .dataframe thead th {\n",
       "        text-align: right;\n",
       "    }\n",
       "</style>\n",
       "<table border=\"1\" class=\"dataframe\">\n",
       "  <thead>\n",
       "    <tr style=\"text-align: right;\">\n",
       "      <th></th>\n",
       "      <th>spread</th>\n",
       "    </tr>\n",
       "    <tr>\n",
       "      <th>日期</th>\n",
       "      <th></th>\n",
       "    </tr>\n",
       "  </thead>\n",
       "  <tbody>\n",
       "    <tr>\n",
       "      <th>2020-04-24 10:52:00</th>\n",
       "      <td>1.072740</td>\n",
       "    </tr>\n",
       "    <tr>\n",
       "      <th>2020-04-24 10:53:00</th>\n",
       "      <td>1.072507</td>\n",
       "    </tr>\n",
       "    <tr>\n",
       "      <th>2020-04-24 10:54:00</th>\n",
       "      <td>1.073019</td>\n",
       "    </tr>\n",
       "    <tr>\n",
       "      <th>2020-04-24 10:55:00</th>\n",
       "      <td>1.072737</td>\n",
       "    </tr>\n",
       "    <tr>\n",
       "      <th>2020-04-24 10:56:00</th>\n",
       "      <td>1.072676</td>\n",
       "    </tr>\n",
       "  </tbody>\n",
       "</table>\n",
       "</div>"
      ],
      "text/plain": [
       "                       spread\n",
       "日期                           \n",
       "2020-04-24 10:52:00  1.072740\n",
       "2020-04-24 10:53:00  1.072507\n",
       "2020-04-24 10:54:00  1.073019\n",
       "2020-04-24 10:55:00  1.072737\n",
       "2020-04-24 10:56:00  1.072676"
      ]
     },
     "execution_count": 25,
     "metadata": {},
     "output_type": "execute_result"
    }
   ],
   "source": [
    "train_spread = pd.read_csv(\"CADF_spread.csv\",index_col=0)\n",
    "train_spread.head()"
   ]
  },
  {
   "cell_type": "code",
   "execution_count": 29,
   "metadata": {},
   "outputs": [
    {
     "data": {
      "text/html": [
       "<div>\n",
       "<style scoped>\n",
       "    .dataframe tbody tr th:only-of-type {\n",
       "        vertical-align: middle;\n",
       "    }\n",
       "\n",
       "    .dataframe tbody tr th {\n",
       "        vertical-align: top;\n",
       "    }\n",
       "\n",
       "    .dataframe thead th {\n",
       "        text-align: right;\n",
       "    }\n",
       "</style>\n",
       "<table border=\"1\" class=\"dataframe\">\n",
       "  <thead>\n",
       "    <tr style=\"text-align: right;\">\n",
       "      <th></th>\n",
       "      <th>test_spread</th>\n",
       "      <th>spread</th>\n",
       "    </tr>\n",
       "    <tr>\n",
       "      <th>日期</th>\n",
       "      <th></th>\n",
       "      <th></th>\n",
       "    </tr>\n",
       "  </thead>\n",
       "  <tbody>\n",
       "    <tr>\n",
       "      <th>2020-11-09 13:00:00</th>\n",
       "      <td>1.057828</td>\n",
       "      <td>1.057828</td>\n",
       "    </tr>\n",
       "    <tr>\n",
       "      <th>2020-11-09 13:01:00</th>\n",
       "      <td>1.058153</td>\n",
       "      <td>1.058153</td>\n",
       "    </tr>\n",
       "    <tr>\n",
       "      <th>2020-11-09 13:02:00</th>\n",
       "      <td>1.058155</td>\n",
       "      <td>1.058155</td>\n",
       "    </tr>\n",
       "    <tr>\n",
       "      <th>2020-11-09 13:03:00</th>\n",
       "      <td>1.058430</td>\n",
       "      <td>1.058430</td>\n",
       "    </tr>\n",
       "    <tr>\n",
       "      <th>2020-11-09 13:04:00</th>\n",
       "      <td>1.057988</td>\n",
       "      <td>1.057988</td>\n",
       "    </tr>\n",
       "  </tbody>\n",
       "</table>\n",
       "</div>"
      ],
      "text/plain": [
       "                     test_spread    spread\n",
       "日期                                        \n",
       "2020-11-09 13:00:00     1.057828  1.057828\n",
       "2020-11-09 13:01:00     1.058153  1.058153\n",
       "2020-11-09 13:02:00     1.058155  1.058155\n",
       "2020-11-09 13:03:00     1.058430  1.058430\n",
       "2020-11-09 13:04:00     1.057988  1.057988"
      ]
     },
     "execution_count": 29,
     "metadata": {},
     "output_type": "execute_result"
    }
   ],
   "source": [
    "#读入测试数据\n",
    "test_spread = pd.read_csv(\"CADF_test_spread.csv\",index_col=0)\n",
    "test_spread[\"spread\"]= test_spread[\"test_spread\"]\n",
    "test_spread.head()"
   ]
  },
  {
   "cell_type": "code",
   "execution_count": 42,
   "metadata": {},
   "outputs": [
    {
     "data": {
      "text/plain": [
       "日期\n",
       "2020-04-24 10:52:00    1.072740\n",
       "2020-04-24 10:53:00    1.072507\n",
       "2020-04-24 10:54:00    1.073019\n",
       "2020-04-24 10:55:00    1.072737\n",
       "2020-04-24 10:56:00    1.072676\n",
       "Name: spread, dtype: float64"
      ]
     },
     "execution_count": 42,
     "metadata": {},
     "output_type": "execute_result"
    }
   ],
   "source": [
    "# 制作统一spread，方便后面操作\n",
    "spread = pd.concat([train_spread[\"spread\"],test_spread[\"spread\"]],axis=0)\n",
    "spread.head()"
   ]
  },
  {
   "cell_type": "code",
   "execution_count": 43,
   "metadata": {},
   "outputs": [
    {
     "name": "stdout",
     "output_type": "stream",
     "text": [
      "[1.         0.9989772  0.99834373 0.99770604 0.99707813 0.99644417\n",
      " 0.99580306 0.9951648  0.99454142 0.99393791 0.99334097 0.992735\n",
      " 0.99213321 0.99151858 0.99088876 0.99026153 0.98961849 0.9889735\n",
      " 0.98831231 0.98765115 0.98697117]\n",
      "[ 1.00000000e+00  9.99058015e-01  1.99700880e-01  3.88326206e-02\n",
      "  1.30777226e-02  1.13961917e-03 -6.02037258e-03 -1.54486920e-03\n",
      "  6.78485159e-03  1.54633826e-02  8.70910652e-03 -1.06889718e-03\n",
      "  8.98285361e-04 -4.69551391e-03 -1.04382973e-02 -2.77441964e-03\n",
      " -1.03491090e-02 -3.50541188e-03 -1.00026587e-02 -3.81983939e-03\n",
      " -1.03087154e-02]\n"
     ]
    },
    {
     "data": {
      "text/plain": [
       "[<matplotlib.lines.Line2D at 0x7f8902881790>]"
      ]
     },
     "execution_count": 43,
     "metadata": {},
     "output_type": "execute_result"
    },
    {
     "data": {
      "image/png": "[encoded data removed]",
      "text/plain": [
       "<Figure size 432x288 with 1 Axes>"
      ]
     },
     "metadata": {
      "needs_background": "light"
     },
     "output_type": "display_data"
    }
   ],
   "source": [
    "# plot the autoregressiveness\n",
    "from statsmodels.tsa.stattools import acf, pacf\n",
    "\n",
    "lag_acf = acf(train_spread[\"spread\"], nlags=20)\n",
    "lag_pacf = pacf(train_spread[\"spread\"], nlags=20, method='ols')\n",
    "\n",
    "print(lag_acf) \n",
    "print(lag_pacf)\n",
    "\n",
    "plt.plot(lag_acf) # it's high simply because the high-frequent nature\n",
    "plt.plot(lag_pacf)"
   ]
  },
  {
   "cell_type": "code",
   "execution_count": 38,
   "metadata": {},
   "outputs": [],
   "source": [
    "from statsmodels.tsa.arima_model import ARIMA"
   ]
  },
  {
   "cell_type": "code",
   "execution_count": 48,
   "metadata": {},
   "outputs": [
    {
     "name": "stderr",
     "output_type": "stream",
     "text": [
      "/Library/Frameworks/Python.framework/Versions/3.8/lib/python3.8/site-packages/statsmodels/tsa/base/tsa_model.py:581: ValueWarning: A date index has been provided, but it has no associated frequency information and so will be ignored when e.g. forecasting.\n",
      "  warnings.warn('A date index has been provided, but it has no'\n",
      "/Library/Frameworks/Python.framework/Versions/3.8/lib/python3.8/site-packages/statsmodels/tsa/base/tsa_model.py:581: ValueWarning: A date index has been provided, but it has no associated frequency information and so will be ignored when e.g. forecasting.\n",
      "  warnings.warn('A date index has been provided, but it has no'\n"
     ]
    },
    {
     "name": "stdout",
     "output_type": "stream",
     "text": [
      "                             ARIMA Model Results                              \n",
      "==============================================================================\n",
      "Dep. Variable:               D.spread   No. Observations:                37920\n",
      "Model:                 ARIMA(2, 1, 0)   Log Likelihood              249403.530\n",
      "Method:                       css-mle   S.D. of innovations              0.000\n",
      "Date:                Mon, 19 Apr 2021   AIC                        -498799.061\n",
      "Time:                        00:32:31   BIC                        -498764.888\n",
      "Sample:                             1   HQIC                       -498788.217\n",
      "                                                                              \n",
      "==================================================================================\n",
      "                     coef    std err          z      P>|z|      [0.025      0.975]\n",
      "----------------------------------------------------------------------------------\n",
      "const            2.67e-07   1.41e-06      0.190      0.849   -2.49e-06    3.02e-06\n",
      "ar.L1.D.spread    -0.1932      0.005    -37.638      0.000      -0.203      -0.183\n",
      "ar.L2.D.spread    -0.0367      0.005     -7.158      0.000      -0.047      -0.027\n",
      "                                    Roots                                    \n",
      "=============================================================================\n",
      "                  Real          Imaginary           Modulus         Frequency\n",
      "-----------------------------------------------------------------------------\n",
      "AR.1           -2.6291           -4.5067j            5.2175           -0.3340\n",
      "AR.2           -2.6291           +4.5067j            5.2175            0.3340\n",
      "-----------------------------------------------------------------------------\n",
      "194.73058311870494\n"
     ]
    },
    {
     "name": "stderr",
     "output_type": "stream",
     "text": [
      "/Library/Frameworks/Python.framework/Versions/3.8/lib/python3.8/site-packages/statsmodels/base/model.py:566: ConvergenceWarning: Maximum Likelihood optimization failed to converge. Check mle_retvals\n",
      "  warnings.warn(\"Maximum Likelihood optimization failed to \"\n"
     ]
    }
   ],
   "source": [
    "# A(1,1) is the most robust choice proved by past research\n",
    "model = ARIMA(spread, order=(2,1,0))\n",
    "model = model.fit()\n",
    "print(model.summary())\n",
    "resid = model.resid\n",
    "mse = np.sqrt(np.sum(resid*resid))/np.std(resid)\n",
    "print(mse)"
   ]
  },
  {
   "cell_type": "code",
   "execution_count": 54,
   "metadata": {},
   "outputs": [
    {
     "data": {
      "text/plain": [
       "[<matplotlib.lines.Line2D at 0x7f88e943c790>]"
      ]
     },
     "execution_count": 54,
     "metadata": {},
     "output_type": "execute_result"
    },
    {
     "data": {
      "image/png": "[encoded data removed]",
      "text/plain": [
       "<Figure size 432x288 with 1 Axes>"
      ]
     },
     "metadata": {
      "needs_background": "light"
     },
     "output_type": "display_data"
    }
   ],
   "source": [
    "# 根据差分复原预测值\n",
    "diff = model.predict().values\n",
    "lag = spread.values[:len(diff)]\n",
    "fitted = diff + lag \n",
    "# 计算残差\n",
    "residual = spread.values[1:] - fitted\n",
    "# 转化为z-score\n",
    "z_score = (residual - np.mean(residual))/np.std(residual)\n",
    "plt.plot(z_score)"
   ]
  },
  {
   "cell_type": "markdown",
   "metadata": {},
   "source": [
    "#### 2. 策略设计"
   ]
  },
  {
   "cell_type": "code",
   "execution_count": 67,
   "metadata": {},
   "outputs": [
    {
     "data": {
      "text/plain": [
       "[<matplotlib.lines.Line2D at 0x7f88f2036cd0>]"
      ]
     },
     "execution_count": 67,
     "metadata": {},
     "output_type": "execute_result"
    },
    {
     "data": {
      "image/png": "[encoded data removed]",
      "text/plain": [
       "<Figure size 432x288 with 1 Axes>"
      ]
     },
     "metadata": {
      "needs_background": "light"
     },
     "output_type": "display_data"
    }
   ],
   "source": [
    "# 以下依旧用类似的方式建立策略，只是信号改为拟合后的残差\n",
    "def calculate_profit(spread,z_score,threshold,transaction_cost=0.3/10000):\n",
    "    turn_over = 0\n",
    "    # 计算每期价差的变化，也即log return\n",
    "    log_ret = spread.diff(1).shift(1).values\n",
    "    spread_score = z_score\n",
    "    # 一开始空仓，只持有现金\n",
    "    # 当价差大于正threshold的时候，持有负的头寸\n",
    "    # 当价差小于负threshold的时候，持有正的头寸\n",
    "    # 其余时间不调整头寸\n",
    "    portfolio_return = []\n",
    "    now_pos = 0\n",
    "    past_pos = 0\n",
    "    for i in range(1,len(spread_score)):\n",
    "        past_pos = now_pos\n",
    "        if spread_score[i] > threshold:\n",
    "            now_pos = 1\n",
    "        if spread_score[i] < -threshold:\n",
    "            now_pos = -1\n",
    "        if now_pos == past_pos:\n",
    "            portfolio_return.append(log_ret[i]*now_pos)\n",
    "        else:\n",
    "            portfolio_return.append(log_ret[i]*now_pos-transaction_cost)\n",
    "            # 调整头寸时扣除交易费用\n",
    "        \n",
    "    portfolio_return = portfolio_return[1:]\n",
    "    total_ret = np.sum(portfolio_return)\n",
    "    IR = total_ret/np.std(portfolio_return)\n",
    "        \n",
    "    return total_ret,IR, portfolio_return\n",
    "\n",
    "profit_list = []\n",
    "IR_list = []\n",
    "threshold_list = [0.01* n for n in range(1,200)]\n",
    "for threshold in threshold_list:\n",
    "    #print(threshold)\n",
    "    profit = calculate_profit(train_spread.iloc[1:,0],z_score[0:len(train_spread)-1],threshold)\n",
    "    profit_list.append(profit[0])\n",
    "    IR_list.append(profit[1])\n",
    "    #print(threshold)\n",
    "    #print(profit[0])\n",
    "plt.plot(threshold_list,profit_list)\n",
    "# bellow is the plot of profit given different threshold"
   ]
  },
  {
   "cell_type": "code",
   "execution_count": 68,
   "metadata": {},
   "outputs": [
    {
     "data": {
      "text/plain": [
       "[<matplotlib.lines.Line2D at 0x7f88e958f8e0>]"
      ]
     },
     "execution_count": 68,
     "metadata": {},
     "output_type": "execute_result"
    },
    {
     "data": {
      "image/png": "[encoded data removed]",
      "text/plain": [
       "<Figure size 432x288 with 1 Axes>"
      ]
     },
     "metadata": {
      "needs_background": "light"
     },
     "output_type": "display_data"
    }
   ],
   "source": [
    "plt.plot(threshold_list,IR_list)"
   ]
  },
  {
   "cell_type": "code",
   "execution_count": 69,
   "metadata": {},
   "outputs": [
    {
     "name": "stdout",
     "output_type": "stream",
     "text": [
      "0.75\n",
      "0.75\n"
     ]
    }
   ],
   "source": [
    "print(threshold_list[np.argmax(profit_list)])\n",
    "print(threshold_list[np.argmax(IR_list)])\n",
    "# 最佳值都在0.75取到"
   ]
  },
  {
   "cell_type": "code",
   "execution_count": 71,
   "metadata": {},
   "outputs": [
    {
     "name": "stdout",
     "output_type": "stream",
     "text": [
      "profit:\n",
      "1.8937694932239242\n",
      "IF Ratio:\n",
      "5484.903178117568\n"
     ]
    },
    {
     "data": {
      "text/plain": [
       "[<matplotlib.lines.Line2D at 0x7f88e1695a30>]"
      ]
     },
     "execution_count": 71,
     "metadata": {},
     "output_type": "execute_result"
    },
    {
     "data": {
      "image/png": "[encoded data removed]",
      "text/plain": [
       "<Figure size 432x288 with 1 Axes>"
      ]
     },
     "metadata": {
      "needs_background": "light"
     },
     "output_type": "display_data"
    }
   ],
   "source": [
    "result = calculate_profit(train_spread.iloc[1:,0],z_score[0:len(train_spread)-1],0.75)\n",
    "print(\"profit:\")\n",
    "print(result[0])\n",
    "print(\"IF Ratio:\")\n",
    "print(result[1]) # that ratio is not annualized\n",
    "profit = pd.Series(result[2])\n",
    "plt.plot(profit.cumsum()) # 收益序列"
   ]
  },
  {
   "cell_type": "markdown",
   "metadata": {},
   "source": [
    "#### 4. 测试策略"
   ]
  },
  {
   "cell_type": "code",
   "execution_count": 73,
   "metadata": {},
   "outputs": [
    {
     "name": "stdout",
     "output_type": "stream",
     "text": [
      "profit:\n",
      "0.4469824608713971\n",
      "IF Ratio:\n",
      "1413.228279934924\n"
     ]
    },
    {
     "data": {
      "text/plain": [
       "[<matplotlib.lines.Line2D at 0x7f88ea1a3070>]"
      ]
     },
     "execution_count": 73,
     "metadata": {},
     "output_type": "execute_result"
    },
    {
     "data": {
      "image/png": "[encoded data removed]",
      "text/plain": [
       "<Figure size 432x288 with 1 Axes>"
      ]
     },
     "metadata": {
      "needs_background": "light"
     },
     "output_type": "display_data"
    }
   ],
   "source": [
    "result = calculate_profit(test_spread.iloc[:,0],z_score[len(train_spread)-1:],0.75)\n",
    "print(\"profit:\")\n",
    "print(result[0])\n",
    "print(\"IF Ratio:\")\n",
    "print(result[1]) # that ratio is not annualized\n",
    "test_profit = pd.Series(result[2])\n",
    "plt.plot(test_profit.cumsum()) # 收益序列"
   ]
  },
  {
   "cell_type": "code",
   "execution_count": 74,
   "metadata": {},
   "outputs": [],
   "source": [
    "# 记录结果\n",
    "profit.to_csv(\"ARMA_train_profit.csv\")\n",
    "test_profit.to_csv(\"ARMA_test_profit.csv\")"
   ]
  }
 ],
 "metadata": {
  "kernelspec": {
   "display_name": "Python 3",
   "language": "python",
   "name": "python3"
  },
  "language_info": {
   "codemirror_mode": {
    "name": "ipython",
    "version": 3
   },
   "file_extension": ".py",
   "mimetype": "text/x-python",
   "name": "python",
   "nbconvert_exporter": "python",
   "pygments_lexer": "ipython3",
   "version": "3.8.5"
  }
 },
 "nbformat": 4,
 "nbformat_minor": 4
}
