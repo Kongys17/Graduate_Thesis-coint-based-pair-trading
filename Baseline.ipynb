{
 "cells": [
  {
   "cell_type": "markdown",
   "metadata": {},
   "source": [
    "#### 最常见的基于协整配对交易流程实现"
   ]
  },
  {
   "cell_type": "markdown",
   "metadata": {},
   "source": [
    "1. 策略构建"
   ]
  },
  {
   "cell_type": "markdown",
   "metadata": {},
   "source": [
    "基于2020年的分钟数据构建策略。"
   ]
  },
  {
   "cell_type": "markdown",
   "metadata": {},
   "source": [
    "1.1 数据处理"
   ]
  },
  {
   "cell_type": "code",
   "execution_count": 1,
   "metadata": {},
   "outputs": [],
   "source": [
    "import pandas as pd\n",
    "import numpy as np\n",
    "import matplotlib.pyplot as plt"
   ]
  },
  {
   "cell_type": "markdown",
   "metadata": {},
   "source": [
    "沪深300股指期货分钟价格序列处理"
   ]
  },
  {
   "cell_type": "code",
   "execution_count": 2,
   "metadata": {},
   "outputs": [
    {
     "data": {
      "text/html": [
       "<div>\n",
       "<style scoped>\n",
       "    .dataframe tbody tr th:only-of-type {\n",
       "        vertical-align: middle;\n",
       "    }\n",
       "\n",
       "    .dataframe tbody tr th {\n",
       "        vertical-align: top;\n",
       "    }\n",
       "\n",
       "    .dataframe thead th {\n",
       "        text-align: right;\n",
       "    }\n",
       "</style>\n",
       "<table border=\"1\" class=\"dataframe\">\n",
       "  <thead>\n",
       "    <tr style=\"text-align: right;\">\n",
       "      <th></th>\n",
       "      <th>代码</th>\n",
       "      <th>名称</th>\n",
       "      <th>日期</th>\n",
       "      <th>开盘价(元)</th>\n",
       "      <th>最高价(元)</th>\n",
       "      <th>最低价(元)</th>\n",
       "      <th>收盘价(元)</th>\n",
       "      <th>结算价</th>\n",
       "      <th>成交额(百万)</th>\n",
       "      <th>成交量</th>\n",
       "      <th>持仓量</th>\n",
       "    </tr>\n",
       "  </thead>\n",
       "  <tbody>\n",
       "    <tr>\n",
       "      <th>0</th>\n",
       "      <td>IF.CFE</td>\n",
       "      <td>沪深300期货</td>\n",
       "      <td>2020-04-24 10:52:00</td>\n",
       "      <td>3776.8</td>\n",
       "      <td>3779.4</td>\n",
       "      <td>3776.4</td>\n",
       "      <td>3778.0</td>\n",
       "      <td>0.0</td>\n",
       "      <td>199.48</td>\n",
       "      <td>176.0</td>\n",
       "      <td>67853.0</td>\n",
       "    </tr>\n",
       "    <tr>\n",
       "      <th>1</th>\n",
       "      <td>IF.CFE</td>\n",
       "      <td>沪深300期货</td>\n",
       "      <td>2020-04-24 10:53:00</td>\n",
       "      <td>3778.2</td>\n",
       "      <td>3778.8</td>\n",
       "      <td>3776.8</td>\n",
       "      <td>3778.4</td>\n",
       "      <td>0.0</td>\n",
       "      <td>255.03</td>\n",
       "      <td>225.0</td>\n",
       "      <td>67742.0</td>\n",
       "    </tr>\n",
       "    <tr>\n",
       "      <th>2</th>\n",
       "      <td>IF.CFE</td>\n",
       "      <td>沪深300期货</td>\n",
       "      <td>2020-04-24 10:54:00</td>\n",
       "      <td>3778.0</td>\n",
       "      <td>3778.4</td>\n",
       "      <td>3776.2</td>\n",
       "      <td>3776.4</td>\n",
       "      <td>0.0</td>\n",
       "      <td>202.84</td>\n",
       "      <td>179.0</td>\n",
       "      <td>67730.0</td>\n",
       "    </tr>\n",
       "    <tr>\n",
       "      <th>3</th>\n",
       "      <td>IF.CFE</td>\n",
       "      <td>沪深300期货</td>\n",
       "      <td>2020-04-24 10:55:00</td>\n",
       "      <td>3776.8</td>\n",
       "      <td>3779.0</td>\n",
       "      <td>3776.6</td>\n",
       "      <td>3779.0</td>\n",
       "      <td>0.0</td>\n",
       "      <td>278.83</td>\n",
       "      <td>246.0</td>\n",
       "      <td>67681.0</td>\n",
       "    </tr>\n",
       "    <tr>\n",
       "      <th>4</th>\n",
       "      <td>IF.CFE</td>\n",
       "      <td>沪深300期货</td>\n",
       "      <td>2020-04-24 10:56:00</td>\n",
       "      <td>3779.0</td>\n",
       "      <td>3781.2</td>\n",
       "      <td>3778.2</td>\n",
       "      <td>3780.6</td>\n",
       "      <td>0.0</td>\n",
       "      <td>521.67</td>\n",
       "      <td>460.0</td>\n",
       "      <td>67570.0</td>\n",
       "    </tr>\n",
       "  </tbody>\n",
       "</table>\n",
       "</div>"
      ],
      "text/plain": [
       "       代码       名称                  日期  开盘价(元)  最高价(元)  最低价(元)  收盘价(元)  结算价  \\\n",
       "0  IF.CFE  沪深300期货 2020-04-24 10:52:00  3776.8  3779.4  3776.4  3778.0  0.0   \n",
       "1  IF.CFE  沪深300期货 2020-04-24 10:53:00  3778.2  3778.8  3776.8  3778.4  0.0   \n",
       "2  IF.CFE  沪深300期货 2020-04-24 10:54:00  3778.0  3778.4  3776.2  3776.4  0.0   \n",
       "3  IF.CFE  沪深300期货 2020-04-24 10:55:00  3776.8  3779.0  3776.6  3779.0  0.0   \n",
       "4  IF.CFE  沪深300期货 2020-04-24 10:56:00  3779.0  3781.2  3778.2  3780.6  0.0   \n",
       "\n",
       "   成交额(百万)    成交量      持仓量  \n",
       "0   199.48  176.0  67853.0  \n",
       "1   255.03  225.0  67742.0  \n",
       "2   202.84  179.0  67730.0  \n",
       "3   278.83  246.0  67681.0  \n",
       "4   521.67  460.0  67570.0  "
      ]
     },
     "execution_count": 2,
     "metadata": {},
     "output_type": "execute_result"
    }
   ],
   "source": [
    "# 2020年IF（沪深300）一分钟数据\n",
    "IF_df = pd.read_excel('Data/IF2020年1分钟.xlsx')\n",
    "IF_df.head()"
   ]
  },
  {
   "cell_type": "code",
   "execution_count": 3,
   "metadata": {},
   "outputs": [
    {
     "data": {
      "text/plain": [
       "代码         1\n",
       "名称         2\n",
       "日期         2\n",
       "开盘价(元)     2\n",
       "最高价(元)     2\n",
       "最低价(元)     2\n",
       "收盘价(元)     2\n",
       "结算价        2\n",
       "成交额(百万)    2\n",
       "成交量        2\n",
       "持仓量        2\n",
       "dtype: int64"
      ]
     },
     "execution_count": 3,
     "metadata": {},
     "output_type": "execute_result"
    }
   ],
   "source": [
    "# 缺失值统计\n",
    "IF_df.isna().sum()"
   ]
  },
  {
   "cell_type": "code",
   "execution_count": 4,
   "metadata": {},
   "outputs": [],
   "source": [
    "# 缺失值较少，直接drop\n",
    "IF_df = IF_df.dropna()"
   ]
  },
  {
   "cell_type": "code",
   "execution_count": 5,
   "metadata": {},
   "outputs": [],
   "source": [
    "# 计算每分钟均价\n",
    "IF_df['日期'] = pd.to_datetime(IF_df['日期'])\n",
    "IF_df = IF_df.set_index('日期')\n",
    "# 由于一般假设股价服从log-normal，故对价格取对数\n",
    "# 得到的时间序列应为~I(1),log收益序列～I(0)\n",
    "IF_log_p = np.log(IF_df[\"收盘价(元)\"])"
   ]
  },
  {
   "cell_type": "code",
   "execution_count": 6,
   "metadata": {},
   "outputs": [
    {
     "data": {
      "text/plain": [
       "日期\n",
       "2020-04-24 10:52:00    8.236950\n",
       "2020-04-24 10:53:00    8.237056\n",
       "2020-04-24 10:54:00    8.236526\n",
       "2020-04-24 10:55:00    8.237215\n",
       "2020-04-24 10:56:00    8.237638\n",
       "                         ...   \n",
       "2020-11-09 11:25:00    8.516793\n",
       "2020-11-09 11:26:00    8.516793\n",
       "2020-11-09 11:27:00    8.517033\n",
       "2020-11-09 11:28:00    8.516913\n",
       "2020-11-09 11:29:00    8.516353\n",
       "Name: 收盘价(元), Length: 31402, dtype: float64"
      ]
     },
     "execution_count": 6,
     "metadata": {},
     "output_type": "execute_result"
    }
   ],
   "source": [
    "IF_log_p"
   ]
  },
  {
   "cell_type": "markdown",
   "metadata": {},
   "source": [
    "上证500股指期货分钟价格序列处理"
   ]
  },
  {
   "cell_type": "code",
   "execution_count": 7,
   "metadata": {},
   "outputs": [
    {
     "data": {
      "text/html": [
       "<div>\n",
       "<style scoped>\n",
       "    .dataframe tbody tr th:only-of-type {\n",
       "        vertical-align: middle;\n",
       "    }\n",
       "\n",
       "    .dataframe tbody tr th {\n",
       "        vertical-align: top;\n",
       "    }\n",
       "\n",
       "    .dataframe thead th {\n",
       "        text-align: right;\n",
       "    }\n",
       "</style>\n",
       "<table border=\"1\" class=\"dataframe\">\n",
       "  <thead>\n",
       "    <tr style=\"text-align: right;\">\n",
       "      <th></th>\n",
       "      <th>代码</th>\n",
       "      <th>名称</th>\n",
       "      <th>日期</th>\n",
       "      <th>开盘价(元)</th>\n",
       "      <th>最高价(元)</th>\n",
       "      <th>最低价(元)</th>\n",
       "      <th>收盘价(元)</th>\n",
       "      <th>结算价</th>\n",
       "      <th>成交额(百万)</th>\n",
       "      <th>成交量</th>\n",
       "      <th>持仓量</th>\n",
       "    </tr>\n",
       "  </thead>\n",
       "  <tbody>\n",
       "    <tr>\n",
       "      <th>0</th>\n",
       "      <td>IH.CFE</td>\n",
       "      <td>上证50期货</td>\n",
       "      <td>2020-04-24 09:59:00</td>\n",
       "      <td>2749.4</td>\n",
       "      <td>2749.4</td>\n",
       "      <td>2747.0</td>\n",
       "      <td>2747.2</td>\n",
       "      <td>0.0</td>\n",
       "      <td>94.81</td>\n",
       "      <td>115.0</td>\n",
       "      <td>26284.0</td>\n",
       "    </tr>\n",
       "    <tr>\n",
       "      <th>1</th>\n",
       "      <td>IH.CFE</td>\n",
       "      <td>上证50期货</td>\n",
       "      <td>2020-04-24 10:00:00</td>\n",
       "      <td>2746.8</td>\n",
       "      <td>2747.8</td>\n",
       "      <td>2745.6</td>\n",
       "      <td>2747.0</td>\n",
       "      <td>0.0</td>\n",
       "      <td>93.12</td>\n",
       "      <td>113.0</td>\n",
       "      <td>26264.0</td>\n",
       "    </tr>\n",
       "    <tr>\n",
       "      <th>2</th>\n",
       "      <td>IH.CFE</td>\n",
       "      <td>上证50期货</td>\n",
       "      <td>2020-04-24 10:01:00</td>\n",
       "      <td>2747.0</td>\n",
       "      <td>2748.4</td>\n",
       "      <td>2747.0</td>\n",
       "      <td>2747.8</td>\n",
       "      <td>0.0</td>\n",
       "      <td>59.35</td>\n",
       "      <td>72.0</td>\n",
       "      <td>26247.0</td>\n",
       "    </tr>\n",
       "    <tr>\n",
       "      <th>3</th>\n",
       "      <td>IH.CFE</td>\n",
       "      <td>上证50期货</td>\n",
       "      <td>2020-04-24 10:02:00</td>\n",
       "      <td>2747.6</td>\n",
       "      <td>2748.6</td>\n",
       "      <td>2746.4</td>\n",
       "      <td>2747.6</td>\n",
       "      <td>0.0</td>\n",
       "      <td>65.94</td>\n",
       "      <td>80.0</td>\n",
       "      <td>26231.0</td>\n",
       "    </tr>\n",
       "    <tr>\n",
       "      <th>4</th>\n",
       "      <td>IH.CFE</td>\n",
       "      <td>上证50期货</td>\n",
       "      <td>2020-04-24 10:03:00</td>\n",
       "      <td>2747.4</td>\n",
       "      <td>2748.0</td>\n",
       "      <td>2746.6</td>\n",
       "      <td>2746.8</td>\n",
       "      <td>0.0</td>\n",
       "      <td>55.22</td>\n",
       "      <td>67.0</td>\n",
       "      <td>26207.0</td>\n",
       "    </tr>\n",
       "  </tbody>\n",
       "</table>\n",
       "</div>"
      ],
      "text/plain": [
       "       代码      名称                  日期  开盘价(元)  最高价(元)  最低价(元)  收盘价(元)  结算价  \\\n",
       "0  IH.CFE  上证50期货 2020-04-24 09:59:00  2749.4  2749.4  2747.0  2747.2  0.0   \n",
       "1  IH.CFE  上证50期货 2020-04-24 10:00:00  2746.8  2747.8  2745.6  2747.0  0.0   \n",
       "2  IH.CFE  上证50期货 2020-04-24 10:01:00  2747.0  2748.4  2747.0  2747.8  0.0   \n",
       "3  IH.CFE  上证50期货 2020-04-24 10:02:00  2747.6  2748.6  2746.4  2747.6  0.0   \n",
       "4  IH.CFE  上证50期货 2020-04-24 10:03:00  2747.4  2748.0  2746.6  2746.8  0.0   \n",
       "\n",
       "   成交额(百万)    成交量      持仓量  \n",
       "0    94.81  115.0  26284.0  \n",
       "1    93.12  113.0  26264.0  \n",
       "2    59.35   72.0  26247.0  \n",
       "3    65.94   80.0  26231.0  \n",
       "4    55.22   67.0  26207.0  "
      ]
     },
     "execution_count": 7,
     "metadata": {},
     "output_type": "execute_result"
    }
   ],
   "source": [
    "# 2020年IH（上证500）一分钟数据\n",
    "IH_df = pd.read_excel('Data/IH2020年1分钟.xlsx')\n",
    "IH_df.head()"
   ]
  },
  {
   "cell_type": "code",
   "execution_count": 8,
   "metadata": {},
   "outputs": [
    {
     "data": {
      "text/plain": [
       "代码         1\n",
       "名称         2\n",
       "日期         2\n",
       "开盘价(元)     2\n",
       "最高价(元)     2\n",
       "最低价(元)     2\n",
       "收盘价(元)     2\n",
       "结算价        2\n",
       "成交额(百万)    2\n",
       "成交量        2\n",
       "持仓量        2\n",
       "dtype: int64"
      ]
     },
     "execution_count": 8,
     "metadata": {},
     "output_type": "execute_result"
    }
   ],
   "source": [
    "# 缺失值统计\n",
    "IH_df.isna().sum()"
   ]
  },
  {
   "cell_type": "code",
   "execution_count": 9,
   "metadata": {},
   "outputs": [],
   "source": [
    "# 缺失值较少，直接drop\n",
    "IH_df = IH_df.dropna()"
   ]
  },
  {
   "cell_type": "code",
   "execution_count": 10,
   "metadata": {},
   "outputs": [],
   "source": [
    "# 计算每分钟均价\n",
    "IH_df['日期'] = pd.to_datetime(IH_df['日期'])\n",
    "IH_df = IH_df.set_index('日期')\n",
    "# 由于一般假设股价服从log-normal，故对价格取对数\n",
    "# 得到的时间序列应为~I(1),log收益序列～I(0)\n",
    "IH_log_p = np.log(IH_df[\"收盘价(元)\"])"
   ]
  },
  {
   "cell_type": "code",
   "execution_count": 11,
   "metadata": {},
   "outputs": [
    {
     "data": {
      "text/html": [
       "<div>\n",
       "<style scoped>\n",
       "    .dataframe tbody tr th:only-of-type {\n",
       "        vertical-align: middle;\n",
       "    }\n",
       "\n",
       "    .dataframe tbody tr th {\n",
       "        vertical-align: top;\n",
       "    }\n",
       "\n",
       "    .dataframe thead th {\n",
       "        text-align: right;\n",
       "    }\n",
       "</style>\n",
       "<table border=\"1\" class=\"dataframe\">\n",
       "  <thead>\n",
       "    <tr style=\"text-align: right;\">\n",
       "      <th></th>\n",
       "      <th>IF_log_p</th>\n",
       "      <th>IH_log_p</th>\n",
       "    </tr>\n",
       "    <tr>\n",
       "      <th>日期</th>\n",
       "      <th></th>\n",
       "      <th></th>\n",
       "    </tr>\n",
       "  </thead>\n",
       "  <tbody>\n",
       "    <tr>\n",
       "      <th>2020-04-24 10:52:00</th>\n",
       "      <td>8.236950</td>\n",
       "      <td>7.921245</td>\n",
       "    </tr>\n",
       "    <tr>\n",
       "      <th>2020-04-24 10:53:00</th>\n",
       "      <td>8.237056</td>\n",
       "      <td>7.921100</td>\n",
       "    </tr>\n",
       "    <tr>\n",
       "      <th>2020-04-24 10:54:00</th>\n",
       "      <td>8.236526</td>\n",
       "      <td>7.921173</td>\n",
       "    </tr>\n",
       "    <tr>\n",
       "      <th>2020-04-24 10:55:00</th>\n",
       "      <td>8.237215</td>\n",
       "      <td>7.921463</td>\n",
       "    </tr>\n",
       "    <tr>\n",
       "      <th>2020-04-24 10:56:00</th>\n",
       "      <td>8.237638</td>\n",
       "      <td>7.921753</td>\n",
       "    </tr>\n",
       "    <tr>\n",
       "      <th>...</th>\n",
       "      <td>...</td>\n",
       "      <td>...</td>\n",
       "    </tr>\n",
       "    <tr>\n",
       "      <th>2020-11-09 11:25:00</th>\n",
       "      <td>8.516793</td>\n",
       "      <td>8.138156</td>\n",
       "    </tr>\n",
       "    <tr>\n",
       "      <th>2020-11-09 11:26:00</th>\n",
       "      <td>8.516793</td>\n",
       "      <td>8.138389</td>\n",
       "    </tr>\n",
       "    <tr>\n",
       "      <th>2020-11-09 11:27:00</th>\n",
       "      <td>8.517033</td>\n",
       "      <td>8.138798</td>\n",
       "    </tr>\n",
       "    <tr>\n",
       "      <th>2020-11-09 11:28:00</th>\n",
       "      <td>8.516913</td>\n",
       "      <td>8.138506</td>\n",
       "    </tr>\n",
       "    <tr>\n",
       "      <th>2020-11-09 11:29:00</th>\n",
       "      <td>8.516353</td>\n",
       "      <td>8.138565</td>\n",
       "    </tr>\n",
       "  </tbody>\n",
       "</table>\n",
       "<p>31305 rows × 2 columns</p>\n",
       "</div>"
      ],
      "text/plain": [
       "                     IF_log_p  IH_log_p\n",
       "日期                                     \n",
       "2020-04-24 10:52:00  8.236950  7.921245\n",
       "2020-04-24 10:53:00  8.237056  7.921100\n",
       "2020-04-24 10:54:00  8.236526  7.921173\n",
       "2020-04-24 10:55:00  8.237215  7.921463\n",
       "2020-04-24 10:56:00  8.237638  7.921753\n",
       "...                       ...       ...\n",
       "2020-11-09 11:25:00  8.516793  8.138156\n",
       "2020-11-09 11:26:00  8.516793  8.138389\n",
       "2020-11-09 11:27:00  8.517033  8.138798\n",
       "2020-11-09 11:28:00  8.516913  8.138506\n",
       "2020-11-09 11:29:00  8.516353  8.138565\n",
       "\n",
       "[31305 rows x 2 columns]"
      ]
     },
     "execution_count": 11,
     "metadata": {},
     "output_type": "execute_result"
    }
   ],
   "source": [
    "# 合并数据集\n",
    "IF_log_p.name = \"IF_log_p\"\n",
    "IH_log_p.name = \"IH_log_p\"\n",
    "train_data = pd.concat([IF_log_p,IH_log_p],axis=1).dropna() # some entries may not share identical label\n",
    "train_data"
   ]
  },
  {
   "cell_type": "markdown",
   "metadata": {},
   "source": [
    "1.2 协整关系"
   ]
  },
  {
   "cell_type": "code",
   "execution_count": 12,
   "metadata": {},
   "outputs": [
    {
     "data": {
      "text/plain": [
       "<matplotlib.axes._subplots.AxesSubplot at 0x7fd5591427f0>"
      ]
     },
     "execution_count": 12,
     "metadata": {},
     "output_type": "execute_result"
    },
    {
     "name": "stderr",
     "output_type": "stream",
     "text": [
      "/Library/Frameworks/Python.framework/Versions/3.8/lib/python3.8/site-packages/matplotlib/backends/backend_agg.py:211: RuntimeWarning: Glyph 26085 missing from current font.\n",
      "  font.set_text(s, 0.0, flags=flags)\n",
      "/Library/Frameworks/Python.framework/Versions/3.8/lib/python3.8/site-packages/matplotlib/backends/backend_agg.py:211: RuntimeWarning: Glyph 26399 missing from current font.\n",
      "  font.set_text(s, 0.0, flags=flags)\n",
      "/Library/Frameworks/Python.framework/Versions/3.8/lib/python3.8/site-packages/matplotlib/backends/backend_agg.py:180: RuntimeWarning: Glyph 26085 missing from current font.\n",
      "  font.set_text(s, 0, flags=flags)\n",
      "/Library/Frameworks/Python.framework/Versions/3.8/lib/python3.8/site-packages/matplotlib/backends/backend_agg.py:180: RuntimeWarning: Glyph 26399 missing from current font.\n",
      "  font.set_text(s, 0, flags=flags)\n"
     ]
    },
    {
     "data": {
      "image/png": "[encoded data removed]",
      "text/plain": [
       "<Figure size 432x288 with 1 Axes>"
      ]
     },
     "metadata": {
      "needs_background": "light"
     },
     "output_type": "display_data"
    }
   ],
   "source": [
    "# 画图观察两个时间序列的关系\n",
    "train_data.plot()"
   ]
  },
  {
   "cell_type": "markdown",
   "metadata": {},
   "source": [
    "1.2.1 分别对两个序列进行ADF Test。"
   ]
  },
  {
   "cell_type": "code",
   "execution_count": 13,
   "metadata": {},
   "outputs": [],
   "source": [
    "from statsmodels.tsa.stattools import adfuller"
   ]
  },
  {
   "cell_type": "code",
   "execution_count": 14,
   "metadata": {},
   "outputs": [
    {
     "data": {
      "text/plain": [
       "0.6503111844911242"
      ]
     },
     "execution_count": 14,
     "metadata": {},
     "output_type": "execute_result"
    }
   ],
   "source": [
    "adfresult1 = adfuller(train_data[\"IH_log_p\"],maxlag=2,regression='ct') # constant or linear trend\n",
    "adfresult1[1] #pavalue"
   ]
  },
  {
   "cell_type": "code",
   "execution_count": 15,
   "metadata": {},
   "outputs": [
    {
     "data": {
      "text/plain": [
       "0.7502835327689898"
      ]
     },
     "execution_count": 15,
     "metadata": {},
     "output_type": "execute_result"
    }
   ],
   "source": [
    "adfresult2 = adfuller(train_data[\"IF_log_p\"],maxlag=2,regression='ct')\n",
    "adfresult2[1]"
   ]
  },
  {
   "cell_type": "markdown",
   "metadata": {},
   "source": [
    "拒绝两个序列含有unit root。"
   ]
  },
  {
   "cell_type": "markdown",
   "metadata": {},
   "source": [
    "1.2.2 用Cointegrated Augmented Dickey Fuller Test检测协整关系"
   ]
  },
  {
   "cell_type": "code",
   "execution_count": 16,
   "metadata": {},
   "outputs": [
    {
     "name": "stdout",
     "output_type": "stream",
     "text": [
      "pamameters: 1.0702376, 0.8314371\n"
     ]
    }
   ],
   "source": [
    "# step1: 用回归找出线性关系\n",
    "from sklearn.linear_model import LinearRegression \n",
    "lm_model = LinearRegression(copy_X=True, fit_intercept=True, normalize=False)\n",
    "lm_model.fit(train_data[\"IF_log_p\"].values.reshape(-1,1), train_data[\"IH_log_p\"].values) \n",
    "print('pamameters: %.7f, %.7f' %(lm_model.intercept_, lm_model.coef_))\n",
    "yfit = lm_model.coef_ * train_data['IF_log_p'] + lm_model.intercept_\n",
    "y_residual = train_data['IH_log_p'] - yfit"
   ]
  },
  {
   "cell_type": "code",
   "execution_count": 17,
   "metadata": {},
   "outputs": [
    {
     "data": {
      "text/plain": [
       "(-3.005934124536253,\n",
       " 0.03434393166717476,\n",
       " 1,\n",
       " 31303,\n",
       " {'1%': -3.4305589204333, '5%': -2.861632337325479, '10%': -2.566819148316002},\n",
       " -411095.00017978053)"
      ]
     },
     "execution_count": 17,
     "metadata": {},
     "output_type": "execute_result"
    }
   ],
   "source": [
    "# step2: 用ADF Test检测余项\n",
    "adfuller(y_residual, 1)           # lag = 1"
   ]
  },
  {
   "cell_type": "markdown",
   "metadata": {},
   "source": [
    "无法拒绝存在协整关系的假设。"
   ]
  },
  {
   "cell_type": "markdown",
   "metadata": {},
   "source": [
    "1.3 构建静态多空组合"
   ]
  },
  {
   "cell_type": "code",
   "execution_count": 18,
   "metadata": {},
   "outputs": [
    {
     "data": {
      "text/plain": [
       "<matplotlib.axes._subplots.AxesSubplot at 0x7fd578eac5e0>"
      ]
     },
     "execution_count": 18,
     "metadata": {},
     "output_type": "execute_result"
    },
    {
     "name": "stderr",
     "output_type": "stream",
     "text": [
      "/Library/Frameworks/Python.framework/Versions/3.8/lib/python3.8/site-packages/matplotlib/backends/backend_agg.py:211: RuntimeWarning: Glyph 26085 missing from current font.\n",
      "  font.set_text(s, 0.0, flags=flags)\n",
      "/Library/Frameworks/Python.framework/Versions/3.8/lib/python3.8/site-packages/matplotlib/backends/backend_agg.py:211: RuntimeWarning: Glyph 26399 missing from current font.\n",
      "  font.set_text(s, 0.0, flags=flags)\n",
      "/Library/Frameworks/Python.framework/Versions/3.8/lib/python3.8/site-packages/matplotlib/backends/backend_agg.py:180: RuntimeWarning: Glyph 26085 missing from current font.\n",
      "  font.set_text(s, 0, flags=flags)\n",
      "/Library/Frameworks/Python.framework/Versions/3.8/lib/python3.8/site-packages/matplotlib/backends/backend_agg.py:180: RuntimeWarning: Glyph 26399 missing from current font.\n",
      "  font.set_text(s, 0, flags=flags)\n"
     ]
    },
    {
     "data": {
      "image/png": "[encoded data removed]",
      "text/plain": [
       "<Figure size 432x288 with 1 Axes>"
      ]
     },
     "metadata": {
      "needs_background": "light"
     },
     "output_type": "display_data"
    }
   ],
   "source": [
    "# 使用回归结果，多头IH 1 unit，空头IF lm_model.coef_ unit。\n",
    "spread = train_data['IH_log_p'] - lm_model.coef_ * train_data['IF_log_p']\n",
    "spread.name = \"spread\"\n",
    "spread.to_csv(\"CADF_spread.csv\")\n",
    "spread.plot()"
   ]
  },
  {
   "cell_type": "code",
   "execution_count": 19,
   "metadata": {},
   "outputs": [
    {
     "data": {
      "text/plain": [
       "<matplotlib.axes._subplots.AxesSubplot at 0x7fd5991b8b20>"
      ]
     },
     "execution_count": 19,
     "metadata": {},
     "output_type": "execute_result"
    },
    {
     "name": "stderr",
     "output_type": "stream",
     "text": [
      "/Library/Frameworks/Python.framework/Versions/3.8/lib/python3.8/site-packages/matplotlib/backends/backend_agg.py:211: RuntimeWarning: Glyph 26085 missing from current font.\n",
      "  font.set_text(s, 0.0, flags=flags)\n",
      "/Library/Frameworks/Python.framework/Versions/3.8/lib/python3.8/site-packages/matplotlib/backends/backend_agg.py:211: RuntimeWarning: Glyph 26399 missing from current font.\n",
      "  font.set_text(s, 0.0, flags=flags)\n",
      "/Library/Frameworks/Python.framework/Versions/3.8/lib/python3.8/site-packages/matplotlib/backends/backend_agg.py:180: RuntimeWarning: Glyph 26085 missing from current font.\n",
      "  font.set_text(s, 0, flags=flags)\n",
      "/Library/Frameworks/Python.framework/Versions/3.8/lib/python3.8/site-packages/matplotlib/backends/backend_agg.py:180: RuntimeWarning: Glyph 26399 missing from current font.\n",
      "  font.set_text(s, 0, flags=flags)\n"
     ]
    },
    {
     "data": {
      "image/png": "[encoded data removed]",
      "text/plain": [
       "<Figure size 432x288 with 1 Axes>"
      ]
     },
     "metadata": {
      "needs_background": "light"
     },
     "output_type": "display_data"
    }
   ],
   "source": [
    "# 用z-score代替spread，会更加清晰：\n",
    "z_spread = (spread-spread.mean())/spread.std()\n",
    "z_spread.plot()"
   ]
  },
  {
   "cell_type": "markdown",
   "metadata": {},
   "source": [
    "设计套利策略的核心是确定头寸（position）以及确定进入头寸的时机。"
   ]
  },
  {
   "cell_type": "markdown",
   "metadata": {},
   "source": [
    "（1）设计头寸的方法分为两种，一种是像上面一样考虑长期的协整关系，从而设计静态对冲系数（static hedging ratio）；另一种方法是考虑随时间变化的协整关系（time-varying cointegration），从而设计动态对冲系数（dynamic hedging ratio）。"
   ]
  },
  {
   "cell_type": "markdown",
   "metadata": {},
   "source": [
    "（2）确定进入时机的思路一般是确定一个（或多个）价差偏离的阀值（band design），每当价差达到阀值就进入相应的头寸。具体的方法也有两种，第一种是现对价差的分布进行建模，从而根据回归中值（mean reverting）的概率进行设计。另一种是用非参数模型，在最大化收益的维度上进行设计。"
   ]
  },
  {
   "cell_type": "markdown",
   "metadata": {},
   "source": [
    "上面已经通过CADF得到了基于长期协整关系的对冲系数。最简单的假设是spread服从某一高斯分布。"
   ]
  },
  {
   "cell_type": "code",
   "execution_count": 23,
   "metadata": {},
   "outputs": [
    {
     "data": {
      "text/plain": [
       "[<matplotlib.lines.Line2D at 0x7fd5591599a0>]"
      ]
     },
     "execution_count": 23,
     "metadata": {},
     "output_type": "execute_result"
    },
    {
     "data": {
      "image/png": "[encoded data removed]",
      "text/plain": [
       "<Figure size 432x288 with 1 Axes>"
      ]
     },
     "metadata": {
      "needs_background": "light"
     },
     "output_type": "display_data"
    }
   ],
   "source": [
    "# 先考虑non-parametric的方式\n",
    "def calculate_profit(spread,threshold):\n",
    "    # 计算每期价差的变化，也即log return\n",
    "    log_ret = spread.diff().values\n",
    "    spread_score = (spread-spread.mean())/spread.std()\n",
    "    spread_score = spread_score.values\n",
    "    # 一开始空仓，只持有现金\n",
    "    # 当价差大于正threshold的时候，持有负的头寸\n",
    "    # 当价差小于负threshold的时候，持有正的头寸\n",
    "    # 其余时间不调整头寸\n",
    "    portfolio_return = []\n",
    "    now_pos = 0\n",
    "    for i in range(1,len(spread_score)):\n",
    "        if spread_score[i] > threshold:\n",
    "            now_pos = -1\n",
    "        if spread_score[i] < -threshold:\n",
    "            now_pos = 1\n",
    "        portfolio_return.append(log_ret[i]*now_pos)\n",
    "        \n",
    "    total_ret = np.sum(portfolio_return)\n",
    "    IR = total_ret/np.std(portfolio_return)\n",
    "        \n",
    "    return total_ret,IR, portfolio_return\n",
    "\n",
    "profit_list = []\n",
    "IR_list = []\n",
    "threshold_list = [0.01* n for n in range(1,200)]\n",
    "for threshold in threshold_list:\n",
    "    #print(threshold)\n",
    "    profit = calculate_profit(spread,threshold)\n",
    "    profit_list.append(profit[0])\n",
    "    IR_list.append(profit[1])\n",
    "    #print(threshold)\n",
    "    #print(profit[0])\n",
    "plt.plot(threshold_list,profit_list)\n",
    "# bellow is the plot of profit given different threshold"
   ]
  },
  {
   "cell_type": "code",
   "execution_count": 24,
   "metadata": {},
   "outputs": [
    {
     "data": {
      "text/plain": [
       "[<matplotlib.lines.Line2D at 0x7fd588d0fdc0>]"
      ]
     },
     "execution_count": 24,
     "metadata": {},
     "output_type": "execute_result"
    },
    {
     "data": {
      "image/png": "[encoded data removed]",
      "text/plain": [
       "<Figure size 432x288 with 1 Axes>"
      ]
     },
     "metadata": {
      "needs_background": "light"
     },
     "output_type": "display_data"
    }
   ],
   "source": [
    "# bellow is the plot of information ratio given different threshold\n",
    "plt.plot(threshold_list,IR_list)"
   ]
  },
  {
   "cell_type": "code",
   "execution_count": 25,
   "metadata": {},
   "outputs": [
    {
     "name": "stdout",
     "output_type": "stream",
     "text": [
      "0.96\n",
      "0.96\n"
     ]
    }
   ],
   "source": [
    "print(threshold_list[np.argmax(profit_list)])\n",
    "print(threshold_list[np.argmax(IR_list)])\n",
    "# 最佳值都在0.96取到"
   ]
  },
  {
   "cell_type": "code",
   "execution_count": 30,
   "metadata": {},
   "outputs": [
    {
     "name": "stdout",
     "output_type": "stream",
     "text": [
      "profit:\n",
      "0.15274621564003077\n",
      "IF Ratio:\n",
      "440.24922895710677\n"
     ]
    },
    {
     "data": {
      "text/plain": [
       "[<matplotlib.lines.Line2D at 0x7fd589fafb20>]"
      ]
     },
     "execution_count": 30,
     "metadata": {},
     "output_type": "execute_result"
    },
    {
     "data": {
      "image/png": "[encoded data removed]",
      "text/plain": [
       "<Figure size 432x288 with 1 Axes>"
      ]
     },
     "metadata": {
      "needs_background": "light"
     },
     "output_type": "display_data"
    }
   ],
   "source": [
    "result = calculate_profit(spread,0.96)\n",
    "print(\"profit:\")\n",
    "print(result[0])\n",
    "print(\"IF Ratio:\")\n",
    "print(result[1]) # that ratio is not annualized\n",
    "profit = pd.Series(result[2])\n",
    "plt.plot(profit.cumsum()) # 收益序列"
   ]
  },
  {
   "cell_type": "markdown",
   "metadata": {},
   "source": [
    "2. 策略测试"
   ]
  },
  {
   "cell_type": "code",
   "execution_count": 44,
   "metadata": {},
   "outputs": [
    {
     "data": {
      "text/html": [
       "<div>\n",
       "<style scoped>\n",
       "    .dataframe tbody tr th:only-of-type {\n",
       "        vertical-align: middle;\n",
       "    }\n",
       "\n",
       "    .dataframe tbody tr th {\n",
       "        vertical-align: top;\n",
       "    }\n",
       "\n",
       "    .dataframe thead th {\n",
       "        text-align: right;\n",
       "    }\n",
       "</style>\n",
       "<table border=\"1\" class=\"dataframe\">\n",
       "  <thead>\n",
       "    <tr style=\"text-align: right;\">\n",
       "      <th></th>\n",
       "      <th>收盘价(元)</th>\n",
       "      <th>日期.1</th>\n",
       "      <th>收盘价(元).1</th>\n",
       "      <th>IF_log_p</th>\n",
       "      <th>IH_log_p</th>\n",
       "    </tr>\n",
       "    <tr>\n",
       "      <th>日期</th>\n",
       "      <th></th>\n",
       "      <th></th>\n",
       "      <th></th>\n",
       "      <th></th>\n",
       "      <th></th>\n",
       "    </tr>\n",
       "  </thead>\n",
       "  <tbody>\n",
       "    <tr>\n",
       "      <th>2020-11-09 13:00:00</th>\n",
       "      <td>4995.0</td>\n",
       "      <td>2020-11-09 13:00:00</td>\n",
       "      <td>3423.8</td>\n",
       "      <td>8.516193</td>\n",
       "      <td>8.138506</td>\n",
       "    </tr>\n",
       "    <tr>\n",
       "      <th>2020-11-09 13:01:00</th>\n",
       "      <td>4993.4</td>\n",
       "      <td>2020-11-09 13:01:00</td>\n",
       "      <td>3424.0</td>\n",
       "      <td>8.515872</td>\n",
       "      <td>8.138565</td>\n",
       "    </tr>\n",
       "    <tr>\n",
       "      <th>2020-11-09 13:02:00</th>\n",
       "      <td>4997.6</td>\n",
       "      <td>2020-11-09 13:02:00</td>\n",
       "      <td>3426.4</td>\n",
       "      <td>8.516713</td>\n",
       "      <td>8.139265</td>\n",
       "    </tr>\n",
       "    <tr>\n",
       "      <th>2020-11-09 13:03:00</th>\n",
       "      <td>4998.4</td>\n",
       "      <td>2020-11-09 13:03:00</td>\n",
       "      <td>3427.8</td>\n",
       "      <td>8.516873</td>\n",
       "      <td>8.139674</td>\n",
       "    </tr>\n",
       "    <tr>\n",
       "      <th>2020-11-09 13:04:00</th>\n",
       "      <td>4998.6</td>\n",
       "      <td>2020-11-09 13:04:00</td>\n",
       "      <td>3426.4</td>\n",
       "      <td>8.516913</td>\n",
       "      <td>8.139265</td>\n",
       "    </tr>\n",
       "  </tbody>\n",
       "</table>\n",
       "</div>"
      ],
      "text/plain": [
       "                     收盘价(元)                日期.1  收盘价(元).1  IF_log_p  IH_log_p\n",
       "日期                                                                           \n",
       "2020-11-09 13:00:00  4995.0 2020-11-09 13:00:00    3423.8  8.516193  8.138506\n",
       "2020-11-09 13:01:00  4993.4 2020-11-09 13:01:00    3424.0  8.515872  8.138565\n",
       "2020-11-09 13:02:00  4997.6 2020-11-09 13:02:00    3426.4  8.516713  8.139265\n",
       "2020-11-09 13:03:00  4998.4 2020-11-09 13:03:00    3427.8  8.516873  8.139674\n",
       "2020-11-09 13:04:00  4998.6 2020-11-09 13:04:00    3426.4  8.516913  8.139265"
      ]
     },
     "execution_count": 44,
     "metadata": {},
     "output_type": "execute_result"
    }
   ],
   "source": [
    "#读入测试数据\n",
    "test_data = pd.read_excel('Data/IFIH近期分钟.xlsx')\n",
    "test_data = test_data[test_data[\"日期\"]>pd.Timestamp(\"2020-11-09 11:29:00\")]\n",
    "test_data[\"IF_log_p\"] = np.log(test_data[\"收盘价(元)\"])\n",
    "test_data[\"IH_log_p\"] = np.log(test_data[\"收盘价(元).1\"])\n",
    "test_data[\"日期\"] = pd.to_datetime(test_data[\"日期\"])\n",
    "test_data = test_data.set_index(\"日期\")\n",
    "test_data.head()"
   ]
  },
  {
   "cell_type": "code",
   "execution_count": 45,
   "metadata": {},
   "outputs": [
    {
     "data": {
      "text/plain": [
       "<matplotlib.axes._subplots.AxesSubplot at 0x7fd57963a880>"
      ]
     },
     "execution_count": 45,
     "metadata": {},
     "output_type": "execute_result"
    },
    {
     "name": "stderr",
     "output_type": "stream",
     "text": [
      "/Library/Frameworks/Python.framework/Versions/3.8/lib/python3.8/site-packages/matplotlib/backends/backend_agg.py:211: RuntimeWarning: Glyph 26085 missing from current font.\n",
      "  font.set_text(s, 0.0, flags=flags)\n",
      "/Library/Frameworks/Python.framework/Versions/3.8/lib/python3.8/site-packages/matplotlib/backends/backend_agg.py:211: RuntimeWarning: Glyph 26399 missing from current font.\n",
      "  font.set_text(s, 0.0, flags=flags)\n",
      "/Library/Frameworks/Python.framework/Versions/3.8/lib/python3.8/site-packages/matplotlib/backends/backend_agg.py:180: RuntimeWarning: Glyph 26085 missing from current font.\n",
      "  font.set_text(s, 0, flags=flags)\n",
      "/Library/Frameworks/Python.framework/Versions/3.8/lib/python3.8/site-packages/matplotlib/backends/backend_agg.py:180: RuntimeWarning: Glyph 26399 missing from current font.\n",
      "  font.set_text(s, 0, flags=flags)\n"
     ]
    },
    {
     "data": {
      "image/png": "[encoded data removed]",
      "text/plain": [
       "<Figure size 432x288 with 1 Axes>"
      ]
     },
     "metadata": {
      "needs_background": "light"
     },
     "output_type": "display_data"
    }
   ],
   "source": [
    "# calculate and plot the test spread\n",
    "test_spread = test_data['IH_log_p'] - lm_model.coef_ * test_data['IF_log_p']\n",
    "test_spread.name = \"test_spread\"\n",
    "test_spread.to_csv(\"CADF_test_spread.csv\")\n",
    "test_spread.plot()"
   ]
  },
  {
   "cell_type": "code",
   "execution_count": 48,
   "metadata": {},
   "outputs": [
    {
     "data": {
      "text/plain": [
       "<matplotlib.axes._subplots.AxesSubplot at 0x7fd55a4d62e0>"
      ]
     },
     "execution_count": 48,
     "metadata": {},
     "output_type": "execute_result"
    },
    {
     "name": "stderr",
     "output_type": "stream",
     "text": [
      "/Library/Frameworks/Python.framework/Versions/3.8/lib/python3.8/site-packages/matplotlib/backends/backend_agg.py:211: RuntimeWarning: Glyph 26085 missing from current font.\n",
      "  font.set_text(s, 0.0, flags=flags)\n",
      "/Library/Frameworks/Python.framework/Versions/3.8/lib/python3.8/site-packages/matplotlib/backends/backend_agg.py:211: RuntimeWarning: Glyph 26399 missing from current font.\n",
      "  font.set_text(s, 0.0, flags=flags)\n",
      "/Library/Frameworks/Python.framework/Versions/3.8/lib/python3.8/site-packages/matplotlib/backends/backend_agg.py:180: RuntimeWarning: Glyph 26085 missing from current font.\n",
      "  font.set_text(s, 0, flags=flags)\n",
      "/Library/Frameworks/Python.framework/Versions/3.8/lib/python3.8/site-packages/matplotlib/backends/backend_agg.py:180: RuntimeWarning: Glyph 26399 missing from current font.\n",
      "  font.set_text(s, 0, flags=flags)\n"
     ]
    },
    {
     "data": {
      "image/png": "[encoded data removed]",
      "text/plain": [
       "<Figure size 432x288 with 1 Axes>"
      ]
     },
     "metadata": {
      "needs_background": "light"
     },
     "output_type": "display_data"
    }
   ],
   "source": [
    "# z-score\n",
    "((test_spread-test_spread.mean())/test_spread.std()).plot()\n",
    "# the mean-reverting process seems to take much longer time"
   ]
  },
  {
   "cell_type": "code",
   "execution_count": 46,
   "metadata": {},
   "outputs": [
    {
     "name": "stdout",
     "output_type": "stream",
     "text": [
      "profit:\n",
      "0.021481582046592784\n",
      "IF Ratio:\n",
      "66.87374919517984\n"
     ]
    },
    {
     "data": {
      "text/plain": [
       "[<matplotlib.lines.Line2D at 0x7fd55a4e8640>]"
      ]
     },
     "execution_count": 46,
     "metadata": {},
     "output_type": "execute_result"
    },
    {
     "data": {
      "image/png": "[encoded data removed]",
      "text/plain": [
       "<Figure size 432x288 with 1 Axes>"
      ]
     },
     "metadata": {
      "needs_background": "light"
     },
     "output_type": "display_data"
    }
   ],
   "source": [
    "test_result = calculate_profit(test_spread,0.96)\n",
    "print(\"profit:\")\n",
    "print(test_result[0])\n",
    "print(\"IF Ratio:\")\n",
    "print(test_result[1]) # that ratio is not annualized\n",
    "test_profit = pd.Series(test_result[2])\n",
    "plt.plot(test_profit.cumsum()) # 收益序列"
   ]
  },
  {
   "cell_type": "code",
   "execution_count": 49,
   "metadata": {},
   "outputs": [],
   "source": [
    "# 记录结果\n",
    "profit.to_csv(\"baseline_train_profit.csv\")\n",
    "test_profit.to_csv(\"baseline_test_profit.csv\")"
   ]
  },
  {
   "cell_type": "markdown",
   "metadata": {},
   "source": [
    "3. 总结讨论"
   ]
  },
  {
   "cell_type": "markdown",
   "metadata": {},
   "source": [
    "显然，训练集的结果在测试集上表现得不太好，可能是因为所用的模型太简单（静态协整+white noise）。改进方法：\n",
    "（1）考虑更复杂的模型\n",
    "（2）考虑rolling window。接下来主要先考虑用更复杂的模型来拟合价差序列。"
   ]
  }
 ],
 "metadata": {
  "kernelspec": {
   "display_name": "Python 3",
   "language": "python",
   "name": "python3"
  },
  "language_info": {
   "codemirror_mode": {
    "name": "ipython",
    "version": 3
   },
   "file_extension": ".py",
   "mimetype": "text/x-python",
   "name": "python",
   "nbconvert_exporter": "python",
   "pygments_lexer": "ipython3",
   "version": "3.8.5"
  }
 },
 "nbformat": 4,
 "nbformat_minor": 4
}
